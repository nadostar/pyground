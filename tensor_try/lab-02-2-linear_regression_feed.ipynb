{
 "cells": [
  {
   "cell_type": "code",
   "execution_count": 1,
   "metadata": {},
   "outputs": [],
   "source": [
    "import tensorflow as tf"
   ]
  },
  {
   "cell_type": "code",
   "execution_count": 2,
   "metadata": {},
   "outputs": [],
   "source": [
    "W = tf.Variable(tf.random_normal([1]), name='weight')\n",
    "b = tf.Variable(tf.random_normal([1]), name='bias')"
   ]
  },
  {
   "cell_type": "code",
   "execution_count": 3,
   "metadata": {},
   "outputs": [],
   "source": [
    "X = tf.placeholder(tf.float32, shape=[None])\n",
    "Y = tf.placeholder(tf.float32, shape=[None])"
   ]
  },
  {
   "cell_type": "code",
   "execution_count": 4,
   "metadata": {},
   "outputs": [],
   "source": [
    "hypothesis = W * X + b"
   ]
  },
  {
   "cell_type": "code",
   "execution_count": 5,
   "metadata": {},
   "outputs": [],
   "source": [
    "cost = tf.reduce_mean(tf.square(hypothesis - Y))"
   ]
  },
  {
   "cell_type": "code",
   "execution_count": 6,
   "metadata": {},
   "outputs": [],
   "source": [
    "optimizer = tf.train.GradientDescentOptimizer(0.01).minimize(cost)"
   ]
  },
  {
   "cell_type": "code",
   "execution_count": 7,
   "metadata": {},
   "outputs": [
    {
     "name": "stdout",
     "output_type": "stream",
     "text": [
      "0 0.19247788 [1.4512078] [-0.71846217]\n",
      "200 0.032489095 [1.2088428] [-0.4747486]\n",
      "400 0.012405898 [1.1290519] [-0.29336566]\n",
      "600 0.004737187 [1.0797462] [-0.18128227]\n",
      "800 0.0018088963 [1.0492785] [-0.11202162]\n",
      "1000 0.0006907231 [1.0304509] [-0.06922235]\n",
      "1200 0.00026374962 [1.0188168] [-0.04277527]\n",
      "1400 0.000100711455 [1.0116277] [-0.02643241]\n",
      "1600 3.8457187e-05 [1.0071852] [-0.01633365]\n",
      "1800 1.4685446e-05 [1.0044401] [-0.01009331]\n",
      "2000 5.6077274e-06 [1.0027438] [-0.00623721]\n",
      "--------------------------------------------------\n",
      "[5.007482]\n",
      "[2.5006223]\n",
      "[1.4978786 3.5033662]\n"
     ]
    }
   ],
   "source": [
    "with tf.Session() as sess:\n",
    "    sess.run(tf.global_variables_initializer())\n",
    "    \n",
    "    for step in range(2001):\n",
    "        cost_val, W_val, b_val, _ = sess.run([cost, W, b, optimizer],\n",
    "                                            feed_dict={X: [1,2,3], Y:[1,2,3]})\n",
    "        \n",
    "        if step % 200 == 0:\n",
    "            print(step, cost_val, W_val, b_val)\n",
    "    \n",
    "    # testing our model\n",
    "    print(\"-\" * 50)\n",
    "    print(sess.run(hypothesis, feed_dict={X: [5]}))\n",
    "    print(sess.run(hypothesis, feed_dict={X: [2.5]}))\n",
    "    print(sess.run(hypothesis, feed_dict={X: [1.5, 3.5]}))"
   ]
  },
  {
   "cell_type": "code",
   "execution_count": null,
   "metadata": {},
   "outputs": [],
   "source": []
  }
 ],
 "metadata": {
  "kernelspec": {
   "display_name": "Python 3",
   "language": "python",
   "name": "python3"
  },
  "language_info": {
   "codemirror_mode": {
    "name": "ipython",
    "version": 3
   },
   "file_extension": ".py",
   "mimetype": "text/x-python",
   "name": "python",
   "nbconvert_exporter": "python",
   "pygments_lexer": "ipython3",
   "version": "3.6.1"
  }
 },
 "nbformat": 4,
 "nbformat_minor": 2
}
