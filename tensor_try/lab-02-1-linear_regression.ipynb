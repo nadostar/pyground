{
 "cells": [
  {
   "cell_type": "code",
   "execution_count": 1,
   "metadata": {},
   "outputs": [],
   "source": [
    "# linear regression\n",
    "\n",
    "import tensorflow as tf\n",
    "\n",
    "tf.set_random_seed(777) # for reproducibility"
   ]
  },
  {
   "cell_type": "code",
   "execution_count": 2,
   "metadata": {},
   "outputs": [
    {
     "name": "stdout",
     "output_type": "stream",
     "text": [
      "0 >>  2.823292 [2.1286771] [-0.8523567]\n",
      "100 >>  0.113226034 [1.3908179] [-0.8884077]\n",
      "200 >>  0.06996683 [1.3072149] [-0.6983712]\n",
      "300 >>  0.043235257 [1.2414987] [-0.5489836]\n",
      "400 >>  0.026716745 [1.18984] [-0.4315508]\n",
      "500 >>  0.016509337 [1.1492316] [-0.33923826]\n",
      "600 >>  0.010201736 [1.1173096] [-0.26667204]\n",
      "700 >>  0.0063040536 [1.0922159] [-0.20962858]\n",
      "800 >>  0.0038955268 [1.0724902] [-0.16478711]\n",
      "900 >>  0.0024072058 [1.056984] [-0.12953788]\n",
      "1000 >>  0.0014875027 [1.0447946] [-0.10182849]\n",
      "1100 >>  0.000919187 [1.0352125] [-0.08004645]\n",
      "1200 >>  0.0005679984 [1.0276802] [-0.06292368]\n",
      "1300 >>  0.00035099048 [1.0217593] [-0.04946378]\n",
      "1400 >>  0.00021689072 [1.0171047] [-0.03888312]\n",
      "1500 >>  0.00013402486 [1.0134459] [-0.03056567]\n",
      "1600 >>  8.281964e-05 [1.0105698] [-0.02402747]\n",
      "1700 >>  5.117658e-05 [1.0083088] [-0.01888768]\n",
      "1800 >>  3.1624182e-05 [1.0065314] [-0.01484741]\n",
      "1900 >>  1.9542107e-05 [1.0051342] [-0.01167146]\n",
      "2000 >>  1.20760815e-05 [1.0040361] [-0.00917497]\n"
     ]
    }
   ],
   "source": [
    "# regression data\n",
    "x = [1,2,3]\n",
    "y = [1,2,3]\n",
    "\n",
    "W = tf.Variable(tf.random_normal([1]), name='weight')\n",
    "b = tf.Variable(tf.random_normal([1]), name='bias')\n",
    "\n",
    "# (Linear) Hypothesis\n",
    "# H(X) = Wx + b\n",
    "hypothesis = W * x + b\n",
    "\n",
    "# Cost/Loss function\n",
    "cost = tf.reduce_mean(tf.square(hypothesis - y))\n",
    "\n",
    "# minimize\n",
    "optimizer = tf.train.GradientDescentOptimizer(learning_rate=0.01).minimize(cost)\n",
    "\n",
    "with tf.Session() as sess:\n",
    "    # initializes global variables in the graph\n",
    "    sess.run(tf.global_variables_initializer())\n",
    "    \n",
    "    for step in range(2001):\n",
    "        sess.run(optimizer)\n",
    "        \n",
    "        if step % 100 == 0:\n",
    "            print(str(step) + ' >> ', sess.run(cost), sess.run(W), sess.run(b))"
   ]
  },
  {
   "cell_type": "code",
   "execution_count": null,
   "metadata": {},
   "outputs": [],
   "source": []
  }
 ],
 "metadata": {
  "kernelspec": {
   "display_name": "Python 3",
   "language": "python",
   "name": "python3"
  },
  "language_info": {
   "codemirror_mode": {
    "name": "ipython",
    "version": 3
   },
   "file_extension": ".py",
   "mimetype": "text/x-python",
   "name": "python",
   "nbconvert_exporter": "python",
   "pygments_lexer": "ipython3",
   "version": "3.6.1"
  }
 },
 "nbformat": 4,
 "nbformat_minor": 2
}
